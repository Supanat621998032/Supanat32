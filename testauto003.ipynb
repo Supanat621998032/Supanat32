{
 "cells": [
  {
   "cell_type": "code",
   "execution_count": 1,
   "id": "1c62f833",
   "metadata": {},
   "outputs": [],
   "source": [
    "import pandas as pd\n",
    "from pandas_datareader import data\n",
    "import seaborn as sns\n",
    "import matplotlib.pyplot as plt"
   ]
  },
  {
   "cell_type": "code",
   "execution_count": 2,
   "id": "d24fba95",
   "metadata": {},
   "outputs": [
    {
     "data": {
      "text/html": [
       "<div>\n",
       "<style scoped>\n",
       "    .dataframe tbody tr th:only-of-type {\n",
       "        vertical-align: middle;\n",
       "    }\n",
       "\n",
       "    .dataframe tbody tr th {\n",
       "        vertical-align: top;\n",
       "    }\n",
       "\n",
       "    .dataframe thead tr th {\n",
       "        text-align: left;\n",
       "    }\n",
       "\n",
       "    .dataframe thead tr:last-of-type th {\n",
       "        text-align: right;\n",
       "    }\n",
       "</style>\n",
       "<table border=\"1\" class=\"dataframe\">\n",
       "  <thead>\n",
       "    <tr>\n",
       "      <th>Attributes</th>\n",
       "      <th>Adj Close</th>\n",
       "      <th>Close</th>\n",
       "      <th>High</th>\n",
       "      <th>Low</th>\n",
       "      <th>Open</th>\n",
       "      <th>Volume</th>\n",
       "    </tr>\n",
       "    <tr>\n",
       "      <th>Symbols</th>\n",
       "      <th>fb</th>\n",
       "      <th>fb</th>\n",
       "      <th>fb</th>\n",
       "      <th>fb</th>\n",
       "      <th>fb</th>\n",
       "      <th>fb</th>\n",
       "    </tr>\n",
       "    <tr>\n",
       "      <th>Date</th>\n",
       "      <th></th>\n",
       "      <th></th>\n",
       "      <th></th>\n",
       "      <th></th>\n",
       "      <th></th>\n",
       "      <th></th>\n",
       "    </tr>\n",
       "  </thead>\n",
       "  <tbody>\n",
       "    <tr>\n",
       "      <th>2012-05-18</th>\n",
       "      <td>38.230000</td>\n",
       "      <td>38.230000</td>\n",
       "      <td>45.000000</td>\n",
       "      <td>38.000000</td>\n",
       "      <td>42.049999</td>\n",
       "      <td>573576400</td>\n",
       "    </tr>\n",
       "    <tr>\n",
       "      <th>2012-05-21</th>\n",
       "      <td>34.029999</td>\n",
       "      <td>34.029999</td>\n",
       "      <td>36.660000</td>\n",
       "      <td>33.000000</td>\n",
       "      <td>36.529999</td>\n",
       "      <td>168192700</td>\n",
       "    </tr>\n",
       "    <tr>\n",
       "      <th>2012-05-22</th>\n",
       "      <td>31.000000</td>\n",
       "      <td>31.000000</td>\n",
       "      <td>33.590000</td>\n",
       "      <td>30.940001</td>\n",
       "      <td>32.610001</td>\n",
       "      <td>101786600</td>\n",
       "    </tr>\n",
       "    <tr>\n",
       "      <th>2012-05-23</th>\n",
       "      <td>32.000000</td>\n",
       "      <td>32.000000</td>\n",
       "      <td>32.500000</td>\n",
       "      <td>31.360001</td>\n",
       "      <td>31.370001</td>\n",
       "      <td>73600000</td>\n",
       "    </tr>\n",
       "    <tr>\n",
       "      <th>2012-05-24</th>\n",
       "      <td>33.029999</td>\n",
       "      <td>33.029999</td>\n",
       "      <td>33.209999</td>\n",
       "      <td>31.770000</td>\n",
       "      <td>32.950001</td>\n",
       "      <td>50237200</td>\n",
       "    </tr>\n",
       "  </tbody>\n",
       "</table>\n",
       "</div>"
      ],
      "text/plain": [
       "Attributes  Adj Close      Close       High        Low       Open     Volume\n",
       "Symbols            fb         fb         fb         fb         fb         fb\n",
       "Date                                                                        \n",
       "2012-05-18  38.230000  38.230000  45.000000  38.000000  42.049999  573576400\n",
       "2012-05-21  34.029999  34.029999  36.660000  33.000000  36.529999  168192700\n",
       "2012-05-22  31.000000  31.000000  33.590000  30.940001  32.610001  101786600\n",
       "2012-05-23  32.000000  32.000000  32.500000  31.360001  31.370001   73600000\n",
       "2012-05-24  33.029999  33.029999  33.209999  31.770000  32.950001   50237200"
      ]
     },
     "execution_count": 2,
     "metadata": {},
     "output_type": "execute_result"
    }
   ],
   "source": [
    "stocks=['fb']\n",
    "df = data.DataReader(stocks, data_source=\"yahoo\", start='2010-01-01')\n",
    "df.head()"
   ]
  },
  {
   "cell_type": "code",
   "execution_count": 3,
   "id": "45a523a6",
   "metadata": {},
   "outputs": [
    {
     "data": {
      "text/plain": [
       "<AxesSubplot:xlabel='Date', ylabel='fb'>"
      ]
     },
     "execution_count": 3,
     "metadata": {},
     "output_type": "execute_result"
    },
    {
     "data": {
      "image/png": "[encoded data removed]",
      "text/plain": [
       "<Figure size 432x288 with 1 Axes>"
      ]
     },
     "metadata": {
      "needs_background": "light"
     },
     "output_type": "display_data"
    }
   ],
   "source": [
    "sns.lineplot(x=df.index, y='fb', data=df['Adj Close'])"
   ]
  },
  {
   "cell_type": "code",
   "execution_count": 4,
   "id": "03d31148",
   "metadata": {},
   "outputs": [
    {
     "data": {
      "text/plain": [
       "Date\n",
       "2012-05-18     45.000000\n",
       "2012-05-21     36.660000\n",
       "2012-05-22     33.590000\n",
       "2012-05-23     32.500000\n",
       "2012-05-24     33.209999\n",
       "                 ...    \n",
       "2021-12-17    337.109985\n",
       "2021-12-20    329.899994\n",
       "2021-12-21    336.000000\n",
       "2021-12-22    334.510010\n",
       "2021-12-23    336.670013\n",
       "Name: fb, Length: 2417, dtype: float64"
      ]
     },
     "execution_count": 4,
     "metadata": {},
     "output_type": "execute_result"
    }
   ],
   "source": [
    "df['High']['fb']"
   ]
  },
  {
   "cell_type": "code",
   "execution_count": 5,
   "id": "9159ce97",
   "metadata": {},
   "outputs": [
    {
     "data": {
      "text/plain": [
       "Date\n",
       "2012-05-18     38.000000\n",
       "2012-05-21     33.000000\n",
       "2012-05-22     30.940001\n",
       "2012-05-23     31.360001\n",
       "2012-05-24     31.770000\n",
       "                 ...    \n",
       "2021-12-17    330.750000\n",
       "2021-12-20    322.529999\n",
       "2021-12-21    323.750000\n",
       "2021-12-22    328.260010\n",
       "2021-12-23    328.359985\n",
       "Name: fb, Length: 2417, dtype: float64"
      ]
     },
     "execution_count": 5,
     "metadata": {},
     "output_type": "execute_result"
    }
   ],
   "source": [
    "df['Low']['fb']"
   ]
  },
  {
   "cell_type": "code",
   "execution_count": 6,
   "id": "c462d61e",
   "metadata": {},
   "outputs": [
    {
     "name": "stdout",
     "output_type": "stream",
     "text": [
      "ค่าเฉลี่ยสูงสุด:  145.95785178569767\n"
     ]
    }
   ],
   "source": [
    "high = 0\n",
    "for i in range(len(df['High']['fb'])):\n",
    "    high = df['High']['fb'][i] + high\n",
    "Avg_high = high/2416\n",
    "\n",
    "print(\"ค่าเฉลี่ยสูงสุด: \",Avg_high)"
   ]
  },
  {
   "cell_type": "code",
   "execution_count": 7,
   "id": "130c9453",
   "metadata": {},
   "outputs": [
    {
     "name": "stdout",
     "output_type": "stream",
     "text": [
      "ค่าเฉลี่ยต่ำสุด :  142.54614240365314\n"
     ]
    }
   ],
   "source": [
    "low = 0\n",
    "for j in range(len(df['Low']['fb'])):\n",
    "    low = df['Low']['fb'][j] + low\n",
    "Avg_low = low/2416\n",
    "print(\"ค่าเฉลี่ยต่ำสุด : \",Avg_low)"
   ]
  },
  {
   "cell_type": "code",
   "execution_count": null,
   "id": "bbc77ecc",
   "metadata": {},
   "outputs": [],
   "source": []
  }
 ],
 "metadata": {
  "kernelspec": {
   "display_name": "Python 3",
   "language": "python",
   "name": "python3"
  },
  "language_info": {
   "codemirror_mode": {
    "name": "ipython",
    "version": 3
   },
   "file_extension": ".py",
   "mimetype": "text/x-python",
   "name": "python",
   "nbconvert_exporter": "python",
   "pygments_lexer": "ipython3",
   "version": "3.8.8"
  }
 },
 "nbformat": 4,
 "nbformat_minor": 5
}
